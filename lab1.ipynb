{
 "cells": [
  {
   "cell_type": "markdown",
   "metadata": {},
   "source": [
    "# Display Faces from the FDDB data set\n",
    "Christophe El Zeinaty & Christopher Hunt"
   ]
  },
  {
   "cell_type": "markdown",
   "metadata": {},
   "source": [
    "# Importing libraries"
   ]
  },
  {
   "cell_type": "code",
   "execution_count": 2,
   "metadata": {},
   "outputs": [],
   "source": [
    "import sys\n",
    "import cv2\n",
    "import math\n",
    "import numpy as np\n",
    "import tensorflow as tf\n",
    "from tensorflow import keras\n"
   ]
  },
  {
   "cell_type": "markdown",
   "metadata": {},
   "source": [
    "# Utility functions"
   ]
  },
  {
   "cell_type": "code",
   "execution_count": 2,
   "metadata": {},
   "outputs": [],
   "source": [
    "def parseFaceAnnotations(fddbTextFilePath):\n",
    "    data_list = []\n",
    "    with open(fddbTextFilePath) as f:\n",
    "        for line in f.readlines():\n",
    "            line = line.strip('\\n')\n",
    "            lst = line.split(' ')#converts str to list\n",
    "            data_list.append(lst)\n",
    "    return data_list\n",
    "\n",
    "def extractFeatures(dataList):\n",
    "    result = []\n",
    "    temp = []\n",
    "    i = 0\n",
    "    while i < len(dataList):\n",
    "        temp = []\n",
    "        temp.append((dataList[i][0],dataList[i+1][0]))\n",
    "        tempFaces = []\n",
    "        for n in range(int(dataList[i+1][0])):\n",
    "            tempFaces.append(dataList[i+n+2])\n",
    "        temp.append(tempFaces)\n",
    "           \n",
    "        i=i+int(dataList[i+1][0])+2\n",
    "        result.append(temp)\n",
    "        \n",
    "    return result\n",
    "\n",
    "def drawEllipse(imagePath, dataList):\n",
    "    img = cv2.imread('pics/' + imagePath + \".jpg\")\n",
    "    for i in range(len(dataList)):\n",
    "        if (dataList[i][0][0] == imagePath):\n",
    "            for n in range(int(dataList[i][0][1])):\n",
    "                center_x = int(float(dataList[i][1][n][3]))\n",
    "                center_y = int(float(dataList[i][1][n][4]))\n",
    "                major_axis_radius =  max(int(float(dataList[i][1][n][0])),int(float(dataList[i][1][n][1])))\n",
    "                minor_axis_radius =  min(int(float(dataList[i][1][n][0])),int(float(dataList[i][1][n][1])))\n",
    "                center_coordinates = (int(center_x), int(center_y)) \n",
    "                axesLength = (int(major_axis_radius), int(minor_axis_radius))\n",
    "                angle = int(math.degrees((float(dataList[i][1][n][2]))))\n",
    "                startAngle = 0\n",
    "                endAngle = 360\n",
    "                # Red color in BGR \n",
    "                color = (0, 0, 255) \n",
    "                thikness = 5\n",
    "\n",
    "                img = cv2.ellipse(img, center_coordinates, axesLength,angle, startAngle, endAngle, color, thikness)  \n",
    "                cv2.imshow('image',img) \n",
    "   \n",
    "        cv2.waitKey(0)\n",
    "        cv2.destroyAllWindows()\n",
    "            "
   ]
  },
  {
   "cell_type": "markdown",
   "metadata": {},
   "source": [
    "# Main\n",
    "\n",
    "We have the drawing function you just need to give it the name of the image and it will draw you the corresponding ellipses"
   ]
  },
  {
   "cell_type": "code",
   "execution_count": null,
   "metadata": {},
   "outputs": [],
   "source": [
    "dataList = parseFaceAnnotations(\"FDDB-folds/FDDB-fold-01-ellipseList.txt\")\n",
    "results = extractFeatures(dataList)\n",
    "drawEllipse(\"2003/01/17/big/img_610\",results)"
   ]
  },
  {
   "cell_type": "code",
   "execution_count": null,
   "metadata": {},
   "outputs": [],
   "source": []
  }
 ],
 "metadata": {
  "kernelspec": {
   "display_name": "Python 3",
   "language": "python",
   "name": "python3"
  },
  "language_info": {
   "codemirror_mode": {
    "name": "ipython",
    "version": 3
   },
   "file_extension": ".py",
   "mimetype": "text/x-python",
   "name": "python",
   "nbconvert_exporter": "python",
   "pygments_lexer": "ipython3",
   "version": "3.8.5"
  }
 },
 "nbformat": 4,
 "nbformat_minor": 4
}
